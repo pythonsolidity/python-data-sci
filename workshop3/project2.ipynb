{
 "cells": [
  {
   "cell_type": "markdown",
   "metadata": {},
   "source": [
    "# Project 2: Text Parsing"
   ]
  },
  {
   "cell_type": "markdown",
   "metadata": {},
   "source": [
    "### (A) Can you organize information by printing cryptocurrency name and price as follows:"
   ]
  },
  {
   "cell_type": "markdown",
   "metadata": {},
   "source": [
    "###            Crypto : xxxxx"
   ]
  },
  {
   "cell_type": "markdown",
   "metadata": {},
   "source": [
    " "
   ]
  },
  {
   "cell_type": "code",
   "execution_count": null,
   "metadata": {},
   "outputs": [],
   "source": [
    "info = \"This is a line without price info. The price of Bitcoin is 60000. This is a line without price info. The price of Ethereum is 2000. This is a line without price info.\""
   ]
  },
  {
   "cell_type": "code",
   "execution_count": null,
   "metadata": {},
   "outputs": [],
   "source": []
  },
  {
   "cell_type": "code",
   "execution_count": null,
   "metadata": {},
   "outputs": [],
   "source": []
  },
  {
   "cell_type": "code",
   "execution_count": null,
   "metadata": {},
   "outputs": [],
   "source": []
  },
  {
   "cell_type": "code",
   "execution_count": null,
   "metadata": {},
   "outputs": [],
   "source": []
  },
  {
   "cell_type": "code",
   "execution_count": null,
   "metadata": {},
   "outputs": [],
   "source": []
  },
  {
   "cell_type": "markdown",
   "metadata": {},
   "source": [
    "## (B) What if the text has two types of patterns?"
   ]
  },
  {
   "cell_type": "code",
   "execution_count": null,
   "metadata": {},
   "outputs": [],
   "source": [
    "new_info = \"This is a line without price info. The price of Bitcoin is 60000. This is a line without price info. Ethereum has a price of 2000. This is a line without price info.\""
   ]
  },
  {
   "cell_type": "code",
   "execution_count": null,
   "metadata": {},
   "outputs": [],
   "source": []
  },
  {
   "cell_type": "markdown",
   "metadata": {},
   "source": [
    " "
   ]
  },
  {
   "cell_type": "markdown",
   "metadata": {},
   "source": [
    " "
   ]
  },
  {
   "cell_type": "markdown",
   "metadata": {},
   "source": [
    " "
   ]
  },
  {
   "cell_type": "markdown",
   "metadata": {},
   "source": [
    " "
   ]
  },
  {
   "cell_type": "markdown",
   "metadata": {},
   "source": [
    " "
   ]
  },
  {
   "cell_type": "markdown",
   "metadata": {},
   "source": [
    " "
   ]
  },
  {
   "cell_type": "code",
   "execution_count": 12,
   "metadata": {},
   "outputs": [
    {
     "name": "stdout",
     "output_type": "stream",
     "text": [
      "Bitcoin : 60000\n",
      "price : 2000\n"
     ]
    }
   ],
   "source": [
    "# Solution A\n",
    "\n",
    "line_list = info.split(\". \")\n",
    "\n",
    "price_list = []\n",
    "currency_list = []\n",
    "\n",
    "for line in line_list:\n",
    "    word_list = line.split(\" \")\n",
    "    for word in word_list:\n",
    "        if word.isdigit():\n",
    "            price_list.append(int(word))  # adding price to the price_list\n",
    "            word_list.pop()               # removing price from the word_list\n",
    "            word_list.pop()               # removing \"is\" from the word_list\n",
    "            currency = word_list.pop()\n",
    "            currency_list.append(currency)\n",
    "    \n",
    "#print(currency_list)\n",
    "#print(price_list)\n",
    "\n",
    "for index in range(len(currency_list)):\n",
    "    print(currency_list[index], \":\", price_list[index])\n",
    "    "
   ]
  },
  {
   "cell_type": "markdown",
   "metadata": {},
   "source": [
    " "
   ]
  },
  {
   "cell_type": "markdown",
   "metadata": {},
   "source": [
    " "
   ]
  },
  {
   "cell_type": "code",
   "execution_count": 15,
   "metadata": {},
   "outputs": [
    {
     "name": "stdout",
     "output_type": "stream",
     "text": [
      "Bitcoin : 60000\n",
      "Ethereum : 2000\n"
     ]
    }
   ],
   "source": [
    "# Solution B\n",
    "line_list = new_info.split(\". \")\n",
    "\n",
    "price_list = []\n",
    "currency_list = []\n",
    "\n",
    "for line in line_list:\n",
    "    word_list = line.split(\" \")\n",
    "    for word in word_list:\n",
    "        if word.isdigit():\n",
    "            price_list.append(int(word))  # adding price to the price_list\n",
    "            word_list.pop()\n",
    "            word = word_list.pop()\n",
    "            if word == \"is\":\n",
    "                currency = word_list.pop()\n",
    "                currency_list.append(currency)\n",
    "            else:\n",
    "                currency = word_list[0]\n",
    "                currency_list.append(currency)\n",
    "    \n",
    "#print(currency_list)\n",
    "#print(price_list)\n",
    "\n",
    "for index in range(len(currency_list)):\n",
    "    print(currency_list[index], \":\", price_list[index])\n",
    "    "
   ]
  },
  {
   "cell_type": "code",
   "execution_count": null,
   "metadata": {},
   "outputs": [],
   "source": []
  }
 ],
 "metadata": {
  "anaconda-cloud": {},
  "kernelspec": {
   "display_name": "Python 3",
   "language": "python",
   "name": "python3"
  },
  "language_info": {
   "codemirror_mode": {
    "name": "ipython",
    "version": 3
   },
   "file_extension": ".py",
   "mimetype": "text/x-python",
   "name": "python",
   "nbconvert_exporter": "python",
   "pygments_lexer": "ipython3",
   "version": "3.7.6"
  }
 },
 "nbformat": 4,
 "nbformat_minor": 1
}
